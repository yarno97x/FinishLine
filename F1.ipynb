{
 "cells": [
  {
   "cell_type": "code",
   "execution_count": 89,
   "id": "b9a210d8-2dc7-46e7-9ab6-c646712f37f1",
   "metadata": {},
   "outputs": [],
   "source": [
    "import requests, json, os, joblib\n",
    "from bs4 import BeautifulSoup\n",
    "import pandas as pd, numpy as np\n",
    "from datetime import date"
   ]
  },
  {
   "cell_type": "code",
   "execution_count": 90,
   "id": "51dbecde-bc55-4dd0-ac83-07fc52e63789",
   "metadata": {},
   "outputs": [
    {
     "name": "stdout",
     "output_type": "stream",
     "text": [
      "Path to dataset files: C:\\Users\\yarno\\.cache\\kagglehub\\datasets\\rohanrao\\formula-1-world-championship-1950-2020\\versions\\24\n"
     ]
    }
   ],
   "source": [
    "import kagglehub\n",
    "\n",
    "# Download latest version\n",
    "kaggle_path = kagglehub.dataset_download(\"rohanrao/formula-1-world-championship-1950-2020\")\n",
    "\n",
    "print(\"Path to dataset files:\", kaggle_path)"
   ]
  },
  {
   "cell_type": "code",
   "execution_count": 91,
   "id": "10fc2792",
   "metadata": {},
   "outputs": [
    {
     "name": "stdout",
     "output_type": "stream",
     "text": [
      "{'Australia': {'id': 1, 'day': 75, 'url_quali': 'https://www.formula1.com/en/results/2025/races/1254/australia/qualifying', 'url_race': 'https://www.formula1.com/en/results/2025/races/1254/australia/race-result'}, 'China': {'id': 17, 'day': 82, 'url_quali': 'https://www.formula1.com/en/results/2025/races/1255/china/qualifying', 'url_race': 'https://www.formula1.com/en/results/2025/races/1255/china/race-result'}, 'Japan': {'id': 22, 'day': 96, 'url_quali': 'https://www.formula1.com/en/results/2025/races/1256/japan/qualifying', 'url_race': 'https://www.formula1.com/en/results/2025/races/1256/japan/race-result'}, 'Bahrain': {'id': 3, 'day': 103, 'url_quali': 'https://www.formula1.com/en/results/2025/races/1257/bahrain/qualifying', 'url_race': 'https://www.formula1.com/en/results/2025/races/1257/bahrain/race-result'}, 'Saudi Arabia': {'id': 77, 'day': 110, 'url_quali': 'https://www.formula1.com/en/results/2025/races/1258/saudi-arabia/qualifying', 'url_race': 'https://www.formula1.com/en/results/2025/races/1258/saudi-arabia/race-result'}, 'Miami': {'id': 79, 'day': 124, 'url_quali': 'https://www.formula1.com/en/results/2025/races/1259/miami/qualifying', 'url_race': 'https://www.formula1.com/en/results/2025/races/1259/miami/race-result'}, 'Emilia-Romagna': {'id': 21, 'day': 138, 'url_quali': 'https://www.formula1.com/en/results/2025/races/1260/emiliaromagna/qualifying', 'url_race': 'https://www.formula1.com/en/results/2025/races/1260/emiliaromagna/race-result'}, 'Monaco': {'id': 6, 'day': 145, 'url_quali': 'https://www.formula1.com/en/results/2025/races/1261/monaco/qualifying', 'url_race': 'https://www.formula1.com/en/results/2025/races/1261/monaco/race-result'}, 'Spain': {'id': 4, 'day': 152, 'url_quali': 'https://www.formula1.com/en/results/2025/races/1262/spain/qualifying', 'url_race': 'https://www.formula1.com/en/results/2025/races/1262/spain/race-result'}, 'Canada': {'id': 7, 'day': 166, 'url_quali': 'https://www.formula1.com/en/results/2025/races/1263/canada/qualifying', 'url_race': 'https://www.formula1.com/en/results/2025/races/1263/canada/race-result'}, 'Austria': {'id': 70, 'day': 180, 'url_quali': 'https://www.formula1.com/en/results/2025/races/1264/austria/qualifying', 'url_race': 'https://www.formula1.com/en/results/2025/races/1264/austria/race-result'}, 'Great Britain': {'id': 9, 'day': 187, 'url_quali': 'https://www.formula1.com/en/results/2025/races/1277/great-britain/qualifying', 'url_race': 'https://www.formula1.com/en/results/2025/races/1277/great-britain/race-result'}, 'Belgium': {'id': 13, 'day': 208, 'url_quali': 'https://www.formula1.com/en/results/2025/races/1265/belgium/qualifying', 'url_race': 'https://www.formula1.com/en/results/2025/races/1265/belgium/race-result'}, 'Hungary': {'id': 11, 'day': 215, 'url_quali': 'https://www.formula1.com/en/results/2025/races/1266/hungary/qualifying', 'url_race': 'https://www.formula1.com/en/results/2025/races/1266/hungary/race-result'}, 'Netherlands': {'id': 39, 'day': 243, 'url_quali': 'https://www.formula1.com/en/results/2025/races/1267/netherlands/qualifying', 'url_race': 'https://www.formula1.com/en/results/2025/races/1267/netherlands/race-result'}, 'Italy': {'id': 14, 'day': 250, 'url_quali': 'https://www.formula1.com/en/results/2025/races/1268/italy/qualifying', 'url_race': 'https://www.formula1.com/en/results/2025/races/1268/italy/race-result'}, 'Azerbaijan': {'id': 73, 'day': 264, 'url_quali': 'https://www.formula1.com/en/results/2025/races/1269/azerbaijan/qualifying', 'url_race': 'https://www.formula1.com/en/results/2025/races/1269/azerbaijan/race-result'}, 'Singapore': {'id': 15, 'day': 278, 'url_quali': 'https://www.formula1.com/en/results/2025/races/1270/singapore/qualifying', 'url_race': 'https://www.formula1.com/en/results/2025/races/1270/singapore/race-result'}, 'United States': {'id': 69, 'day': 292, 'url_quali': 'https://www.formula1.com/en/results/2025/races/1271/united-states/qualifying', 'url_race': 'https://www.formula1.com/en/results/2025/races/1271/united-states/race-result'}, 'Mexico': {'id': 32, 'day': 299, 'url_quali': 'https://www.formula1.com/en/results/2025/races/1272/mexico/qualifying', 'url_race': 'https://www.formula1.com/en/results/2025/races/1272/mexico/race-result'}, 'Brazil': {'id': 18, 'day': 313, 'url_quali': 'https://www.formula1.com/en/results/2025/races/1273/brazil/qualifying', 'url_race': 'https://www.formula1.com/en/results/2025/races/1273/brazil/race-result'}, 'Las Vegas': {'id': 44, 'day': 326, 'url_quali': 'https://www.formula1.com/en/results/2025/races/1274/las-vegas/qualifying', 'url_race': 'https://www.formula1.com/en/results/2025/races/1274/las-vegas/race-result'}, 'Qatar': {'id': 78, 'day': 334, 'url_quali': 'https://www.formula1.com/en/results/2025/races/1275/qatar/qualifying', 'url_race': 'https://www.formula1.com/en/results/2025/races/1275/qatar/race-result'}, 'Abu Dhabi': {'id': 24, 'day': 341, 'url_quali': 'https://www.formula1.com/en/results/2025/races/1276/united-arab-emirates/qualifying', 'url_race': 'https://www.formula1.com/en/results/2025/races/1276/united-arab-emirates/race-result'}}\n"
     ]
    }
   ],
   "source": [
    "with open('data/links.json', 'r', encoding='utf-8') as f:\n",
    "    LINKS = json.load(f)\n",
    "print(LINKS)"
   ]
  },
  {
   "cell_type": "code",
   "execution_count": 92,
   "id": "3c9fdb83-016c-4866-a58f-ef86226f02e6",
   "metadata": {},
   "outputs": [],
   "source": [
    "class Scraper:\n",
    "  def __init__(self):\n",
    "    self.qualifying_2025 = pd.DataFrame(columns=[\"TrackId\", \"Code\", \"Team\", \"Q1\", \"Q2\", \"Q3\", \"Grid\"])\n",
    "    self.races_2025 = pd.DataFrame(columns=[\"TrackId\", \"Code\", \"Position\"])\n",
    "    self.last_scraped = 0\n",
    "\n",
    "    if os.path.exists(\"metadata.json\"):\n",
    "       with open(\"data/metadata.json\", \"r\", encoding=\"utf-8\") as f:\n",
    "         self.today = json.load(f)\n",
    "    else:\n",
    "       self.today = 0\n",
    "\n",
    "  def extract_qualifying(self):\n",
    "      for race in LINKS.values():\n",
    "          if race['day'] > self.today or race['day'] <= self.last_scraped:\n",
    "             break\n",
    "          path = race[\"url_quali\"]\n",
    "          soup = BeautifulSoup(requests.get(path).text, \"lxml\")\n",
    "          table = soup.find(\"tbody\")\n",
    "          rows = table.find_all(\"tr\")\n",
    "\n",
    "          for row in rows:\n",
    "            grid, _, name, team, q1, q2, q3, _ = [val.text for val in row.find_all(\"td\")]\n",
    "            name, code = name[:-3], name[-3:]\n",
    "            self.qualifying_2025.loc[len(self.qualifying_2025)] = [race['id'], code, team, q1, q2, q3, grid]\n",
    "\n",
    "    \n",
    "  def extract_races(self):\n",
    "      for race in LINKS.values():\n",
    "          if race['day'] > self.today or race['day'] <= self.last_scraped:\n",
    "             break\n",
    "          path = race[\"url_race\"]\n",
    "          soup = BeautifulSoup(requests.get(path).text, \"lxml\")\n",
    "          table = soup.find(\"tbody\")\n",
    "          rows = table.find_all(\"tr\")\n",
    "\n",
    "          for row in rows:\n",
    "            position, _, name, _, _, _, _= [val.text for val in row.find_all(\"td\")]\n",
    "            code = name[-3:]\n",
    "            self.races_2025.loc[len(self.races_2025)] = [int(race['id']), code, position]\n",
    "\n",
    "  def scrape(self, today):\n",
    "     self.today = today\n",
    "     self.extract_qualifying()\n",
    "     self.extract_races()\n",
    "     self.last_scraped = today\n",
    "     print(self.last_scraped)\n",
    "\n",
    "  def merge_current(self):\n",
    "     return pd.merge(self.qualifying_2025, self.races_2025, how=\"right\", on=[\"TrackId\", \"Code\"])\n",
    "  \n",
    "  def load(self, df):\n",
    "     self.old_df = df\n",
    "\n",
    "  def save(self):\n",
    "     pd.concat([self.old_df, self.merge_current()]).to_csv(\"data/season_2025.csv\", index=False)\n",
    "     with open(\"data/metadata.json\", \"w\", encoding=\"utf-8\") as f:\n",
    "        json.dump(self.last_scraped, f)\n",
    "\n",
    "  def check(self):\n",
    "      try:\n",
    "         df = pd.read_csv(\"data/season_2025.csv\")\n",
    "      except FileNotFoundError:\n",
    "         df = pd.DataFrame()\n",
    "         \n",
    "      self.load(df)\n",
    "      self.scrape(int(date.today().strftime(\"%j\")))\n",
    "      self.save()\n",
    "\n",
    "def remove_2025_season():\n",
    "    if os.path.exists(\"data/metadata.json\"):\n",
    "        os.remove(\"data/metadata.json\")\n",
    "    if os.path.exists(\"data/season_2025.csv\"):\n",
    "        os.remove(\"data/season_2025.csv\")\n",
    "\n",
    "remove_2025_season()"
   ]
  },
  {
   "cell_type": "markdown",
   "id": "e27a22da",
   "metadata": {},
   "source": [
    "# Update 2025 Database"
   ]
  },
  {
   "cell_type": "code",
   "execution_count": 93,
   "id": "2abfa2e2",
   "metadata": {},
   "outputs": [
    {
     "name": "stdout",
     "output_type": "stream",
     "text": [
      "235\n"
     ]
    }
   ],
   "source": [
    "Scraper().check()"
   ]
  },
  {
   "cell_type": "markdown",
   "id": "b113669c",
   "metadata": {},
   "source": [
    "# Las Vegas"
   ]
  },
  {
   "cell_type": "code",
   "execution_count": 94,
   "id": "6c323966",
   "metadata": {},
   "outputs": [],
   "source": [
    "\n",
    "lv_qualis = pd.DataFrame(columns=[\"TrackId\", \"Code\", \"Team\", \"Q1\", \"Q2\", \"Q3\", \"Grid\"])\n",
    "lv_races = pd.DataFrame(columns=[\"TrackId\", \"Code\", \"Position\"])\n",
    "\n",
    "for path in [\"https://www.formula1.com/en/results/2023/races/1225/las-vegas/qualifying\", \"https://www.formula1.com/en/results/2024/races/1250/las-vegas/qualifying\"]:\n",
    "    soup = BeautifulSoup(requests.get(path).text, \"lxml\")\n",
    "    table = soup.find(\"tbody\")\n",
    "    rows = table.find_all(\"tr\")\n",
    "\n",
    "    for row in rows:\n",
    "        grid, _, name, team, q1, q2, q3, _ = [val.text for val in row.find_all(\"td\")]\n",
    "        code = name[-3:]\n",
    "        lv_qualis.loc[len(lv_qualis)] = [44, code, team, q1, q2, q3, grid]\n",
    "\n",
    "\n",
    "for path in [\"https://www.formula1.com/en/results/2023/races/1225/las-vegas/race-result\", \"https://www.formula1.com/en/results/2024/races/1250/las-vegas/race-result\"]:\n",
    "    soup = BeautifulSoup(requests.get(path).text, \"lxml\")\n",
    "    table = soup.find(\"tbody\")\n",
    "    rows = table.find_all(\"tr\")\n",
    "\n",
    "    for row in rows:\n",
    "        position, _, name, _, _, _, _= [val.text for val in row.find_all(\"td\")]\n",
    "        code = name[-3:]\n",
    "        lv_races.loc[len(lv_races)] = [44, code, position]\n",
    "\n",
    "season_2025 = pd.read_csv(\"data/season_2025.csv\")\n",
    "lv = pd.merge(lv_qualis, lv_races, how=\"right\", on=[\"TrackId\", \"Code\"])\n",
    "lv = lv.loc[lv.Code.isin(season_2025.Code.unique())]\n",
    "\n",
    "pd.concat([season_2025, lv]).to_csv(\"data/season_2025.csv\", index=False)"
   ]
  },
  {
   "cell_type": "markdown",
   "id": "40d66a01",
   "metadata": {},
   "source": [
    "# From Kaggle"
   ]
  },
  {
   "cell_type": "code",
   "execution_count": 95,
   "id": "66acf787",
   "metadata": {},
   "outputs": [],
   "source": [
    "all_qualis = pd.read_csv(f\"{kaggle_path}/qualifying.csv\", usecols=['raceId', 'driverId', 'constructorId', 'q1', 'q2', 'q3'])\n",
    "races = pd.read_csv(f\"{kaggle_path}/races.csv\", usecols=['raceId', 'circuitId'])\n",
    "drivers = pd.read_csv(f\"{kaggle_path}/drivers.csv\", usecols=['driverId', 'code'])\n",
    "results = pd.read_csv(f\"{kaggle_path}/results.csv\", usecols=['raceId', 'driverId', 'position', 'grid'])\n",
    "constructors = pd.read_csv(f\"{kaggle_path}/constructors.csv\", usecols=[\"constructorId\", \"name\"])\n",
    "circuits = pd.read_csv(f\"{kaggle_path}/circuits.csv\")\n",
    "\n",
    "w = pd.merge(all_qualis, results, how=\"left\", on=[\"raceId\", \"driverId\"])\n",
    "x = pd.merge(w, races, how=\"left\", on=[\"raceId\"]).drop([\"raceId\"], axis=1).rename(columns={\n",
    "    \"circuitId\":\"TrackId\",\n",
    "    \"q1\":\"Q1\",\n",
    "    \"q2\":\"Q2\",\n",
    "    \"q3\":\"Q3\",\n",
    "    \"grid\":\"Grid\",\n",
    "    \"position\":\"Position\"\n",
    "})\n",
    "y = pd.merge(x, drivers, how=\"left\", on=[\"driverId\"]).rename(columns={\"code\":\"Code\"})\n",
    "z = pd.merge(y, constructors, how=\"right\", on=[\"constructorId\"]).drop([\"constructorId\"], axis=1).rename(columns={\"name\":\"Team\"})\n",
    "z[[\"TrackId\", \"Code\", \"Team\", \"Q1\", \"Q2\", \"Q3\", \"Grid\", \"Position\", \"driverId\"]]\n",
    "z = z.loc[~((z.driverId == 818) & (z.Code == \"VER\"))]\n",
    "\n",
    "\n",
    "z[[\"TrackId\", \"Code\", \"Team\", \"Q1\", \"Q2\", \"Q3\", \"Grid\", \"Position\"]].loc[z.Code.isin(pd.read_csv(\"data/season_2025.csv\").Code)].reset_index(drop=True).to_csv(\"data/previous_seasons.csv\", index=False)\n"
   ]
  },
  {
   "cell_type": "code",
   "execution_count": 97,
   "id": "614799dd",
   "metadata": {},
   "outputs": [],
   "source": [
    "if os.path.exists(\"data/previous_seasons.csv\"):\n",
    "    pd.concat([pd.read_csv(\"data/previous_seasons.csv\"), pd.read_csv(\"data/season_2025.csv\")]).to_csv(\"data/all_seasons.csv\", index=False)\n",
    "    os.remove(\"data/previous_seasons.csv\")"
   ]
  },
  {
   "cell_type": "markdown",
   "id": "2b76d9b2",
   "metadata": {},
   "source": [
    "## Standardize Team Names"
   ]
  },
  {
   "cell_type": "code",
   "execution_count": 98,
   "id": "6e95ca24",
   "metadata": {},
   "outputs": [
    {
     "data": {
      "text/plain": [
       "['models/preprocessor_post.pkl']"
      ]
     },
     "execution_count": 98,
     "metadata": {},
     "output_type": "execute_result"
    }
   ],
   "source": [
    "path = \"data/all_seasons.csv\"\n",
    "df = pd.read_csv(path)\n",
    "\n",
    "from sklearn.impute import SimpleImputer\n",
    "from sklearn.preprocessing import StandardScaler\n",
    "from sklearn.preprocessing import OneHotEncoder\n",
    "from sklearn.compose import ColumnTransformer\n",
    "from sklearn.pipeline import Pipeline\n",
    "\n",
    "def convert_time(s):\n",
    "    if isinstance(s, float):\n",
    "        return s\n",
    "    elif not isinstance(s, str) or len(s) < 3:\n",
    "        return None\n",
    "    else :\n",
    "        if len(s) == len(\"1:00:000\"):\n",
    "            return float(int(s[-3:]))/1000 + int(s[-6:-4]) + 60 * int(s[0])\n",
    "        \n",
    "categorical_features = [\"TrackId\", \"Code\", \"Team\"]\n",
    "numerical_features = [\"Q1\", \"Q2\", \"Q3\", \"Grid\"]\n",
    "\n",
    "categorical_pipeline = Pipeline(steps=[\n",
    "    (\"imputer\", SimpleImputer(strategy=\"most_frequent\")),\n",
    "    (\"encoder\", OneHotEncoder())\n",
    "])\n",
    "\n",
    "numeric_pipeline = Pipeline(steps=[\n",
    "    (\"imputer\", SimpleImputer(strategy=\"mean\")),\n",
    "    (\"scaler\", StandardScaler())\n",
    "])\n",
    "\n",
    "preprocessor = ColumnTransformer(\n",
    "    transformers=[\n",
    "        (\"cat\", categorical_pipeline, categorical_features),\n",
    "        (\"num\", numeric_pipeline, numerical_features),\n",
    "    ]\n",
    ")\n",
    "\n",
    "def preprocess(df, fit = False):\n",
    "    team_map = {\n",
    "        'Alpine F1 Team': \"Alpine\",\n",
    "        'Haas F1 Team': \"Haas\",\n",
    "        'Toro Rosso': \"Racing Bulls\",\n",
    "        'Red Bull Racing': \"Red Bull\",\n",
    "        'RB F1 Team': \"Red Bull\",\n",
    "        'Racing Point': \"Aston Martin\",\n",
    "        'Red Bull Racing Honda RBPT': \"Red Bull\",\n",
    "        'Alpine Renault': \"Alpine\",\n",
    "        'Aston Martin Aramco Mercedes':'Aston Martin',\n",
    "        'McLaren Mercedes':\"McLaren\",\n",
    "        'Williams Mercedes': \"Williams\",\n",
    "        'AlphaTauri Honda RBPT': \"Racing Bulls\",\n",
    "        'Haas Ferrari':\"Ferrari\",\n",
    "        'RB Honda RBPT':\"Red Bull\"\n",
    "    }\n",
    "    \n",
    "    df.Team = df.Team.replace(team_map)\n",
    "    if fit:\n",
    "        df.Position = df.Position.replace({'\\\\N':21, 'DQ':21, \"NC\":21}).astype(int)\n",
    "    df.TrackId = df.TrackId.astype(int)\n",
    "    df.Grid = df.Grid.replace({'\\\\N':21, 'DQ':21, \"NC\":21}).astype(float).astype(int)\n",
    "    df.Q1 = df.Q1.apply(convert_time)\n",
    "    df.Q2 = df.Q2.apply(convert_time)\n",
    "    df.Q3 = df.Q3.apply(convert_time)\n",
    "\n",
    "    if fit:\n",
    "        df.Position = df.Position.astype(int).astype(float)\n",
    "        X, y = df.drop([\"Position\"], axis=1), df.Position\n",
    "        return preprocessor.fit_transform(X), y\n",
    "    else :\n",
    "        return preprocessor.transform(df)\n",
    "    \n",
    "X, y = preprocess(df, fit=True)\n",
    "\n",
    "joblib.dump(preprocessor, \"models/preprocessor_post.pkl\")"
   ]
  },
  {
   "cell_type": "code",
   "execution_count": 99,
   "id": "89e8c992",
   "metadata": {},
   "outputs": [
    {
     "data": {
      "text/plain": [
       "['models/preprocessor_pre.pkl']"
      ]
     },
     "execution_count": 99,
     "metadata": {},
     "output_type": "execute_result"
    }
   ],
   "source": [
    "path = \"data/all_seasons.csv\"\n",
    "df = pd.read_csv(path, usecols=[\"TrackId\", \"Code\", \"Team\", \"Position\"])\n",
    "        \n",
    "categorical_features = [\"TrackId\", \"Code\", \"Team\"]\n",
    "\n",
    "categorical_pipeline = Pipeline(steps=[\n",
    "    (\"imputer\", SimpleImputer(strategy=\"most_frequent\")),\n",
    "    (\"encoder\", OneHotEncoder())\n",
    "])\n",
    "\n",
    "preprocessor2 = ColumnTransformer(\n",
    "    transformers=[\n",
    "        (\"cat\", categorical_pipeline, categorical_features)\n",
    "    ]\n",
    ")\n",
    "\n",
    "\n",
    "def preprocess2(df, fit = False):\n",
    "    team_map = {\n",
    "        'Alpine F1 Team': \"Alpine\",\n",
    "        'Haas F1 Team': \"Haas\",\n",
    "        'Toro Rosso': \"Racing Bulls\",\n",
    "        'Red Bull Racing': \"Red Bull\",\n",
    "        'RB F1 Team': \"Red Bull\",\n",
    "        'Racing Point': \"Aston Martin\",\n",
    "        'Red Bull Racing Honda RBPT': \"Red Bull\",\n",
    "        'Alpine Renault': \"Alpine\",\n",
    "        'Aston Martin Aramco Mercedes':'Aston Martin',\n",
    "        'McLaren Mercedes':\"McLaren\",\n",
    "        'Williams Mercedes': \"Williams\",\n",
    "        'AlphaTauri Honda RBPT': \"Racing Bulls\",\n",
    "        'Haas Ferrari':\"Ferrari\",\n",
    "        'RB Honda RBPT':\"Red Bull\"\n",
    "    }\n",
    "    \n",
    "    df.Team = df.Team.replace(team_map)\n",
    "    if fit:\n",
    "        df.Position = df.Position.replace({'\\\\N':21, 'DQ':21, \"NC\":21}).astype(int)\n",
    "    df.TrackId = df.TrackId.astype(int)\n",
    "\n",
    "    if fit:\n",
    "        df.Position = df.Position.astype(int).astype(float)\n",
    "        X, y = df.drop([\"Position\"], axis=1), df.Position\n",
    "        return preprocessor2.fit_transform(X), y\n",
    "    else :\n",
    "        return preprocessor2.transform(df)\n",
    "    \n",
    "X_no_time, y_no_time = preprocess2(df, fit=True)\n",
    "\n",
    "joblib.dump(preprocessor2, \"models/preprocessor_pre.pkl\")"
   ]
  },
  {
   "cell_type": "code",
   "execution_count": 100,
   "id": "bd0d53df",
   "metadata": {},
   "outputs": [],
   "source": [
    "nn_post_quali = joblib.load(\"models/nn_post_quali.pkl\")\n",
    "nn_pre_quali = joblib.load(\"models/nn_pre_quali.pkl\")\n",
    "\n",
    "rf_post_quali = joblib.load(\"models/rf_post_quali.pkl\")\n",
    "rf_pre_quali = joblib.load(\"models/rf_pre_quali.pkl\")"
   ]
  },
  {
   "cell_type": "markdown",
   "id": "0e314c3a",
   "metadata": {},
   "source": [
    "# Validation"
   ]
  },
  {
   "cell_type": "code",
   "execution_count": 101,
   "id": "61fea446",
   "metadata": {},
   "outputs": [
    {
     "name": "stdout",
     "output_type": "stream",
     "text": [
      "Neural Network\n",
      "2.792857142857143\n",
      "1.6642857142857144\n",
      "Random Forest\n",
      "2.6785714285714293\n",
      "1.4214285714285713\n"
     ]
    }
   ],
   "source": [
    "data_pre = pd.read_csv(\"data/season_2025.csv\", usecols=[\"TrackId\", \"Code\", \"Team\", \"Position\"])\n",
    "data_post = pd.read_csv(\"data/season_2025.csv\")\n",
    "\n",
    "def accuracy_pre(model, TrackId, data):\n",
    "    pred = model.predict(preprocess2(data.loc[data.TrackId == TrackId].drop([\"Position\"], axis=1)))\n",
    "    ranking = data.loc[data.TrackId == TrackId][[\"Code\", \"Position\"]].reset_index(drop=True).join(pd.DataFrame(pred, columns=[\"Pred\"]).reset_index(drop=True), how=\"inner\").sort_values(by=\"Pred\").reset_index(drop=True)\n",
    "    accu = 0\n",
    "    for index, row in ranking.iterrows():\n",
    "        pos = int(row.Position) if row.Position not in [\"NC\", \"DQ\"] else 21\n",
    "        accu += abs(pos - int(index))\n",
    "    return accu / 20\n",
    "\n",
    "def accuracy_post(model, TrackId, data):\n",
    "    pred = model.predict(preprocess(data.loc[data.TrackId == TrackId].drop([\"Position\"], axis=1)))\n",
    "    ranking = data.loc[data.TrackId == TrackId][[\"Code\", \"Position\"]].reset_index(drop=True).join(pd.DataFrame(pred, columns=[\"Pred\"]).reset_index(drop=True), how=\"inner\").sort_values(by=\"Pred\").reset_index(drop=True)\n",
    "    accu = 0\n",
    "    for index, row in ranking.iterrows():\n",
    "        pos = int(row.Position) if row.Position not in [\"NC\", \"DQ\"] else 21\n",
    "        accu += abs(pos - int(index))\n",
    "    return accu / 20\n",
    "\n",
    "\n",
    "with open(\"data/links.json\", \"r\", encoding=\"utf-8\") as f:\n",
    "    LINKS = json.load(f)\n",
    "\n",
    "today = int(date.today().strftime(\"%j\"))\n",
    "\n",
    "def compute_net_accu(model, accu_fct, dataset):\n",
    "    vals = []\n",
    "    for link_set in LINKS.values():\n",
    "        if link_set['day'] > today:\n",
    "            break\n",
    "        vals.append(accu_fct(model, link_set['id'], dataset))\n",
    "    return np.array(vals).mean()\n",
    "\n",
    "print(\"Neural Network\")\n",
    "print(compute_net_accu(nn_pre_quali, accuracy_pre, data_pre))\n",
    "print(compute_net_accu(nn_post_quali, accuracy_post, data_post))\n",
    "print(\"Random Forest\")\n",
    "print(compute_net_accu(rf_pre_quali, accuracy_pre, data_pre))\n",
    "print(compute_net_accu(rf_post_quali, accuracy_post, data_post))"
   ]
  }
 ],
 "metadata": {
  "kernelspec": {
   "display_name": "Python 3",
   "language": "python",
   "name": "python3"
  },
  "language_info": {
   "codemirror_mode": {
    "name": "ipython",
    "version": 3
   },
   "file_extension": ".py",
   "mimetype": "text/x-python",
   "name": "python",
   "nbconvert_exporter": "python",
   "pygments_lexer": "ipython3",
   "version": "3.13.5"
  }
 },
 "nbformat": 4,
 "nbformat_minor": 5
}
